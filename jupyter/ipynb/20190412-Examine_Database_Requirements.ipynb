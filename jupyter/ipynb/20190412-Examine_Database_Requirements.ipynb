{
 "cells": [
  {
   "cell_type": "code",
   "execution_count": 1,
   "metadata": {},
   "outputs": [],
   "source": [
    "from os import chdir\n",
    "chdir('/home/jovyan')"
   ]
  },
  {
   "cell_type": "code",
   "execution_count": 2,
   "metadata": {},
   "outputs": [],
   "source": [
    "from lib.postgres import connect_to_postgres"
   ]
  },
  {
   "cell_type": "markdown",
   "metadata": {},
   "source": [
    "# Attribute Type\n",
    " \n",
    "|    Column                                      |  Type                         |   \n",
    "|-------------|---------------------- | \n",
    "age            | integer \n",
    "workclass      | text    \n",
    "fnlwgt         | integer \n",
    "education      | text    \n",
    " education_num  | integer \n",
    " marital_status | text    \n",
    " occupation     | text    \n",
    " relationship   | text    \n",
    " race           | text    \n",
    " gender         | text    \n",
    " capital_gain   | integer \n",
    " capital_loss   | integer \n",
    " hours_per_week | integer \n",
    " native_country | text    \n",
    " income_label   | text    \n"
   ]
  },
  {
   "cell_type": "code",
   "execution_count": 3,
   "metadata": {},
   "outputs": [],
   "source": [
    "con, cur = connect_to_postgres()\n",
    "cur.execute(\"\"\"\n",
    "BEGIN;\n",
    "ALTER TABLE adult ADD COLUMN _id SERIAL PRIMARY KEY;\n",
    "ALTER TABLE adult ADD COLUMN target BOOLEAN;\n",
    "COMMIT;\n",
    "\"\"\")\n",
    "con.close()"
   ]
  },
  {
   "cell_type": "code",
   "execution_count": 4,
   "metadata": {},
   "outputs": [
    {
     "name": "stdout",
     "output_type": "stream",
     "text": [
      "[(' <=50K',), (' >50K',)]\n"
     ]
    }
   ],
   "source": [
    "con, cur = connect_to_postgres()\n",
    "cur.execute(\"\"\"SELECT DISTINCT(income_label) FROM adult;\"\"\")\n",
    "print(cur.fetchall())\n",
    "con.close()"
   ]
  },
  {
   "cell_type": "code",
   "execution_count": 6,
   "metadata": {},
   "outputs": [
    {
     "name": "stdout",
     "output_type": "stream",
     "text": [
      "[(39, ' State-gov', 77516, ' Bachelors', 13, ' Never-married', ' Adm-clerical', ' Not-in-family', ' White', ' Male', 2174, 0, 40, ' United-States', ' <=50K', 1, None), (50, ' Self-emp-not-inc', 83311, ' Bachelors', 13, ' Married-civ-spouse', ' Exec-managerial', ' Husband', ' White', ' Male', 0, 0, 13, ' United-States', ' <=50K', 2, None), (38, ' Private', 215646, ' HS-grad', 9, ' Divorced', ' Handlers-cleaners', ' Not-in-family', ' White', ' Male', 0, 0, 40, ' United-States', ' <=50K', 3, None), (53, ' Private', 234721, ' 11th', 7, ' Married-civ-spouse', ' Handlers-cleaners', ' Husband', ' Black', ' Male', 0, 0, 40, ' United-States', ' <=50K', 4, None), (28, ' Private', 338409, ' Bachelors', 13, ' Married-civ-spouse', ' Prof-specialty', ' Wife', ' Black', ' Female', 0, 0, 40, ' Cuba', ' <=50K', 5, None), (37, ' Private', 284582, ' Masters', 14, ' Married-civ-spouse', ' Exec-managerial', ' Wife', ' White', ' Female', 0, 0, 40, ' United-States', ' <=50K', 6, None), (49, ' Private', 160187, ' 9th', 5, ' Married-spouse-absent', ' Other-service', ' Not-in-family', ' Black', ' Female', 0, 0, 16, ' Jamaica', ' <=50K', 7, None), (52, ' Self-emp-not-inc', 209642, ' HS-grad', 9, ' Married-civ-spouse', ' Exec-managerial', ' Husband', ' White', ' Male', 0, 0, 45, ' United-States', ' >50K', 8, None), (31, ' Private', 45781, ' Masters', 14, ' Never-married', ' Prof-specialty', ' Not-in-family', ' White', ' Female', 14084, 0, 50, ' United-States', ' >50K', 9, None), (42, ' Private', 159449, ' Bachelors', 13, ' Married-civ-spouse', ' Exec-managerial', ' Husband', ' White', ' Male', 5178, 0, 40, ' United-States', ' >50K', 10, None), (37, ' Private', 280464, ' Some-college', 10, ' Married-civ-spouse', ' Exec-managerial', ' Husband', ' Black', ' Male', 0, 0, 80, ' United-States', ' >50K', 11, None), (30, ' State-gov', 141297, ' Bachelors', 13, ' Married-civ-spouse', ' Prof-specialty', ' Husband', ' Asian-Pac-Islander', ' Male', 0, 0, 40, ' India', ' >50K', 12, None), (23, ' Private', 122272, ' Bachelors', 13, ' Never-married', ' Adm-clerical', ' Own-child', ' White', ' Female', 0, 0, 30, ' United-States', ' <=50K', 13, None), (32, ' Private', 205019, ' Assoc-acdm', 12, ' Never-married', ' Sales', ' Not-in-family', ' Black', ' Male', 0, 0, 50, ' United-States', ' <=50K', 14, None), (40, ' Private', 121772, ' Assoc-voc', 11, ' Married-civ-spouse', ' Craft-repair', ' Husband', ' Asian-Pac-Islander', ' Male', 0, 0, 40, ' ?', ' >50K', 15, None), (34, ' Private', 245487, ' 7th-8th', 4, ' Married-civ-spouse', ' Transport-moving', ' Husband', ' Amer-Indian-Eskimo', ' Male', 0, 0, 45, ' Mexico', ' <=50K', 16, None), (25, ' Self-emp-not-inc', 176756, ' HS-grad', 9, ' Never-married', ' Farming-fishing', ' Own-child', ' White', ' Male', 0, 0, 35, ' United-States', ' <=50K', 17, None), (32, ' Private', 186824, ' HS-grad', 9, ' Never-married', ' Machine-op-inspct', ' Unmarried', ' White', ' Male', 0, 0, 40, ' United-States', ' <=50K', 18, None), (38, ' Private', 28887, ' 11th', 7, ' Married-civ-spouse', ' Sales', ' Husband', ' White', ' Male', 0, 0, 50, ' United-States', ' <=50K', 19, None), (43, ' Self-emp-not-inc', 292175, ' Masters', 14, ' Divorced', ' Exec-managerial', ' Unmarried', ' White', ' Female', 0, 0, 45, ' United-States', ' >50K', 20, None), (40, ' Private', 193524, ' Doctorate', 16, ' Married-civ-spouse', ' Prof-specialty', ' Husband', ' White', ' Male', 0, 0, 60, ' United-States', ' >50K', 21, None), (54, ' Private', 302146, ' HS-grad', 9, ' Separated', ' Other-service', ' Unmarried', ' Black', ' Female', 0, 0, 20, ' United-States', ' <=50K', 22, None), (35, ' Federal-gov', 76845, ' 9th', 5, ' Married-civ-spouse', ' Farming-fishing', ' Husband', ' Black', ' Male', 0, 0, 40, ' United-States', ' <=50K', 23, None), (43, ' Private', 117037, ' 11th', 7, ' Married-civ-spouse', ' Transport-moving', ' Husband', ' White', ' Male', 0, 2042, 40, ' United-States', ' <=50K', 24, None), (59, ' Private', 109015, ' HS-grad', 9, ' Divorced', ' Tech-support', ' Unmarried', ' White', ' Female', 0, 0, 40, ' United-States', ' <=50K', 25, None), (56, ' Local-gov', 216851, ' Bachelors', 13, ' Married-civ-spouse', ' Tech-support', ' Husband', ' White', ' Male', 0, 0, 40, ' United-States', ' >50K', 26, None), (19, ' Private', 168294, ' HS-grad', 9, ' Never-married', ' Craft-repair', ' Own-child', ' White', ' Male', 0, 0, 40, ' United-States', ' <=50K', 27, None), (54, ' ?', 180211, ' Some-college', 10, ' Married-civ-spouse', ' ?', ' Husband', ' Asian-Pac-Islander', ' Male', 0, 0, 60, ' South', ' >50K', 28, None), (39, ' Private', 367260, ' HS-grad', 9, ' Divorced', ' Exec-managerial', ' Not-in-family', ' White', ' Male', 0, 0, 80, ' United-States', ' <=50K', 29, None), (49, ' Private', 193366, ' HS-grad', 9, ' Married-civ-spouse', ' Craft-repair', ' Husband', ' White', ' Male', 0, 0, 40, ' United-States', ' <=50K', 30, None), (23, ' Local-gov', 190709, ' Assoc-acdm', 12, ' Never-married', ' Protective-serv', ' Not-in-family', ' White', ' Male', 0, 0, 52, ' United-States', ' <=50K', 31, None), (20, ' Private', 266015, ' Some-college', 10, ' Never-married', ' Sales', ' Own-child', ' Black', ' Male', 0, 0, 44, ' United-States', ' <=50K', 32, None), (45, ' Private', 386940, ' Bachelors', 13, ' Divorced', ' Exec-managerial', ' Own-child', ' White', ' Male', 0, 1408, 40, ' United-States', ' <=50K', 33, None), (30, ' Federal-gov', 59951, ' Some-college', 10, ' Married-civ-spouse', ' Adm-clerical', ' Own-child', ' White', ' Male', 0, 0, 40, ' United-States', ' <=50K', 34, None), (22, ' State-gov', 311512, ' Some-college', 10, ' Married-civ-spouse', ' Other-service', ' Husband', ' Black', ' Male', 0, 0, 15, ' United-States', ' <=50K', 35, None), (48, ' Private', 242406, ' 11th', 7, ' Never-married', ' Machine-op-inspct', ' Unmarried', ' White', ' Male', 0, 0, 40, ' Puerto-Rico', ' <=50K', 36, None), (21, ' Private', 197200, ' Some-college', 10, ' Never-married', ' Machine-op-inspct', ' Own-child', ' White', ' Male', 0, 0, 40, ' United-States', ' <=50K', 37, None), (19, ' Private', 544091, ' HS-grad', 9, ' Married-AF-spouse', ' Adm-clerical', ' Wife', ' White', ' Female', 0, 0, 25, ' United-States', ' <=50K', 38, None), (31, ' Private', 84154, ' Some-college', 10, ' Married-civ-spouse', ' Sales', ' Husband', ' White', ' Male', 0, 0, 38, ' ?', ' >50K', 39, None), (48, ' Self-emp-not-inc', 265477, ' Assoc-acdm', 12, ' Married-civ-spouse', ' Prof-specialty', ' Husband', ' White', ' Male', 0, 0, 40, ' United-States', ' <=50K', 40, None), (31, ' Private', 507875, ' 9th', 5, ' Married-civ-spouse', ' Machine-op-inspct', ' Husband', ' White', ' Male', 0, 0, 43, ' United-States', ' <=50K', 41, None), (53, ' Self-emp-not-inc', 88506, ' Bachelors', 13, ' Married-civ-spouse', ' Prof-specialty', ' Husband', ' White', ' Male', 0, 0, 40, ' United-States', ' <=50K', 42, None), (24, ' Private', 172987, ' Bachelors', 13, ' Married-civ-spouse', ' Tech-support', ' Husband', ' White', ' Male', 0, 0, 50, ' United-States', ' <=50K', 43, None), (49, ' Private', 94638, ' HS-grad', 9, ' Separated', ' Adm-clerical', ' Unmarried', ' White', ' Female', 0, 0, 40, ' United-States', ' <=50K', 44, None), (25, ' Private', 289980, ' HS-grad', 9, ' Never-married', ' Handlers-cleaners', ' Not-in-family', ' White', ' Male', 0, 0, 35, ' United-States', ' <=50K', 45, None), (57, ' Federal-gov', 337895, ' Bachelors', 13, ' Married-civ-spouse', ' Prof-specialty', ' Husband', ' Black', ' Male', 0, 0, 40, ' United-States', ' >50K', 46, None), (53, ' Private', 144361, ' HS-grad', 9, ' Married-civ-spouse', ' Machine-op-inspct', ' Husband', ' White', ' Male', 0, 0, 38, ' United-States', ' <=50K', 47, None), (44, ' Private', 128354, ' Masters', 14, ' Divorced', ' Exec-managerial', ' Unmarried', ' White', ' Female', 0, 0, 40, ' United-States', ' <=50K', 48, None), (41, ' State-gov', 101603, ' Assoc-voc', 11, ' Married-civ-spouse', ' Craft-repair', ' Husband', ' White', ' Male', 0, 0, 40, ' United-States', ' <=50K', 49, None)]\n"
     ]
    }
   ],
   "source": [
    "con, cur = connect_to_postgres()\n",
    "cur.execute(\"\"\"SELECT * FROM adult WHERE _id < 50;\"\"\")\n",
    "print(cur.fetchall())\n",
    "con.close()"
   ]
  },
  {
   "cell_type": "code",
   "execution_count": 7,
   "metadata": {},
   "outputs": [],
   "source": [
    "con, cur = connect_to_postgres()\n",
    "cur.execute(\"\"\"SELECT _id, income_label FROM adult WHERE target IS NULL;\"\"\")\n",
    "this_id, income_label = cur.fetchone()\n",
    "\n",
    "greater_than_50k = (income_label == ' >50K')\n",
    "cur.execute(\"\"\"\n",
    "BEGIN;\n",
    "UPDATE adult\n",
    "SET target = {}\n",
    "WHERE _id = {};\n",
    "COMMIT;\n",
    "\"\"\".format(greater_than_50k, this_id))\n",
    "\n",
    "con.close()"
   ]
  },
  {
   "cell_type": "code",
   "execution_count": 8,
   "metadata": {},
   "outputs": [
    {
     "name": "stdout",
     "output_type": "stream",
     "text": [
      "1 (1, ' <=50K', False)\n"
     ]
    }
   ],
   "source": [
    "con, cur = connect_to_postgres()\n",
    "cur.execute(\"\"\"\n",
    "SELECT _id, income_label, target\n",
    "FROM adult WHERE _id = {};\n",
    "\"\"\".format(this_id))\n",
    "print (this_id, cur.fetchone())\n",
    "con.close()"
   ]
  },
  {
   "cell_type": "code",
   "execution_count": 9,
   "metadata": {},
   "outputs": [],
   "source": [
    "def encode_target(_id):\n",
    "    \"\"\"Encode the target for a single row as a boolean value. Takes a row _id.\"\"\"\n",
    "    con, cur = connect_to_postgres()\n",
    "    cur.execute(\"\"\"SELECT _id, income_label FROM adult WHERE _id = {}\"\"\".format(_id))\n",
    "    this_id, income_label = cur.fetchone()\n",
    "    assert this_id == _id\n",
    "    \n",
    "    greater_than_50k = (income_label == ' >50k')\n",
    "    \n",
    "    cur.execute(\"\"\"\n",
    "        BEGIN;\n",
    "        UPDATE adult\n",
    "        SET target = {}\n",
    "        WHERE _id = {};\n",
    "        COMMIT;\n",
    "        \"\"\".format(greater_than_50k, _id))\n",
    "    con.close()"
   ]
  },
  {
   "cell_type": "code",
   "execution_count": 11,
   "metadata": {},
   "outputs": [],
   "source": [
    "con, cur = connect_to_postgres()\n",
    "cur.execute(\"\"\"SELECT _id FROM adult WHERE target IS NULL;\"\"\")\n",
    "this_id, = cur.fetchone()\n",
    "encode_target(this_id)\n",
    "con.close()"
   ]
  },
  {
   "cell_type": "code",
   "execution_count": 12,
   "metadata": {},
   "outputs": [
    {
     "name": "stdout",
     "output_type": "stream",
     "text": [
      "2 (2, ' <=50K', False)\n"
     ]
    }
   ],
   "source": [
    "con, cur = connect_to_postgres()\n",
    "cur.execute(\"\"\"SELECT _id, income_label, target FROM adult WHERE _id = {};\"\"\".format(this_id))\n",
    "print(this_id, cur.fetchone())\n",
    "con.close()"
   ]
  }
 ],
 "metadata": {
  "kernelspec": {
   "display_name": "Python 3",
   "language": "python",
   "name": "python3"
  },
  "language_info": {
   "codemirror_mode": {
    "name": "ipython",
    "version": 3
   },
   "file_extension": ".py",
   "mimetype": "text/x-python",
   "name": "python",
   "nbconvert_exporter": "python",
   "pygments_lexer": "ipython3",
   "version": "3.7.1"
  }
 },
 "nbformat": 4,
 "nbformat_minor": 2
}
